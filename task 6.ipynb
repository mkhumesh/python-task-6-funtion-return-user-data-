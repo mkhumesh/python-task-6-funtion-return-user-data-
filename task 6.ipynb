{
 "cells": [
  {
   "cell_type": "code",
   "execution_count": 44,
   "metadata": {},
   "outputs": [
    {
     "name": "stdout",
     "output_type": "stream",
     "text": [
      "{'userId': 1, 'name': 'user1', 'age': 24, 'age_category': 'adult'}\n"
     ]
    }
   ],
   "source": [
    "def user(userId,name, age,category):\n",
    "    if age < 10:\n",
    "        category =\"man\"\n",
    "    elif age > 20:\n",
    "        category  =\"adult\"\n",
    "    elif age < 30:\n",
    "        category  =\"old\"   \n",
    "    else:\n",
    "        category = \"teenager\"\n",
    "    return {'userId': userId, 'name': name, 'age': age, 'age_category': category}\n",
    "\n",
    "print(user(1,'user1',24,'a'))"
   ]
  },
  {
   "cell_type": "code",
   "execution_count": 49,
   "metadata": {},
   "outputs": [
    {
     "name": "stdout",
     "output_type": "stream",
     "text": [
      "{'userId': 1, 'name': 'user1', 'age': 24, 'age_category': 'adult'}\n",
      "{'userId': 2, 'name': 'user2', 'age': 26, 'age_category': 'man'}\n",
      "{'userId': 3, 'name': 'user3', 'age': 20, 'age_category': 'old'}\n",
      "{'userId': 3, 'name': 'user3', 'age': -22, 'age_category': 'teenager'}\n"
     ]
    }
   ],
   "source": [
    "def user(userId,name, age,category):\n",
    "    if age > 25:\n",
    "        category =\"man\"\n",
    "    elif age > 20:\n",
    "        category  =\"adult\"\n",
    "    elif age > 19:\n",
    "        category  =\"old\"   \n",
    "    else:\n",
    "        category = \"teenager\"\n",
    "    return {'userId': userId, 'name': name, 'age': age, 'age_category': category}\n",
    "\n",
    "print(user(1,'user1',24,'a'))\n",
    "\n",
    "print(user(2,'user2',26,'b')) \n",
    "\n",
    "print(user(3,'user3',20,'c')) \n",
    "\n",
    "print(user(3,'user3',-22,'c')) "
   ]
  },
  {
   "cell_type": "code",
   "execution_count": 47,
   "metadata": {},
   "outputs": [
    {
     "name": "stdout",
     "output_type": "stream",
     "text": [
      "         *\n",
      "        ***\n",
      "       *****\n",
      "      *******\n",
      "     *********\n",
      "    ***********\n",
      "   *************\n",
      "  ***************\n",
      " *****************\n",
      "*******************\n"
     ]
    }
   ],
   "source": [
    "t= int(input('no.:'))\n",
    "for i in range(t):\n",
    "    for j in range(t - i - 1):\n",
    "        print(' ', end='')\n",
    "    for k in range(2 * i + 1):\n",
    "        print('*', end='')\n",
    "    print()"
   ]
  },
  {
   "cell_type": "code",
   "execution_count": 51,
   "metadata": {},
   "outputs": [
    {
     "name": "stdout",
     "output_type": "stream",
     "text": [
      "*******************\n",
      " *****************\n",
      "  ***************\n",
      "   *************\n",
      "    ***********\n",
      "     *********\n",
      "      *******\n",
      "       *****\n",
      "        ***\n",
      "         *\n"
     ]
    }
   ],
   "source": [
    "t= int(input('no.:'))\n",
    "for i in range(t):\n",
    "    for j in range(i):\n",
    "        print(' ', end='')\n",
    "    for k in range(2 * (t -i-1) + 1):\n",
    "        print('*', end='')\n",
    "    print()"
   ]
  }
 ],
 "metadata": {
  "kernelspec": {
   "display_name": "Python 3",
   "language": "python",
   "name": "python3"
  },
  "language_info": {
   "codemirror_mode": {
    "name": "ipython",
    "version": 3
   },
   "file_extension": ".py",
   "mimetype": "text/x-python",
   "name": "python",
   "nbconvert_exporter": "python",
   "pygments_lexer": "ipython3",
   "version": "3.12.5"
  }
 },
 "nbformat": 4,
 "nbformat_minor": 2
}
